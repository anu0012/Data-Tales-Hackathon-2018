{
 "cells": [
  {
   "cell_type": "code",
   "execution_count": 1,
   "metadata": {
    "collapsed": false
   },
   "outputs": [
    {
     "name": "stderr",
     "output_type": "stream",
     "text": [
      "/anaconda/lib/python3.6/site-packages/sklearn/cross_validation.py:44: DeprecationWarning: This module was deprecated in version 0.18 in favor of the model_selection module into which all the refactored classes and functions are moved. Also note that the interface of the new CV iterators are different from that of this module. This module will be removed in 0.20.\n",
      "  \"This module will be removed in 0.20.\", DeprecationWarning)\n"
     ]
    }
   ],
   "source": [
    "import numpy as np\n",
    "import os\n",
    "import pandas as pd\n",
    "import sys\n",
    "import matplotlib.pyplot as plt\n",
    "%matplotlib inline\n",
    "from sklearn.model_selection import train_test_split\n",
    "from sklearn.naive_bayes import MultinomialNB\n",
    "from sklearn.svm import LinearSVR\n",
    "from sklearn.ensemble import RandomForestRegressor, GradientBoostingRegressor,VotingClassifier\n",
    "from sklearn.linear_model import SGDRegressor, LinearRegression, BayesianRidge, Lasso, HuberRegressor, ElasticNetCV\n",
    "from sklearn.linear_model import Ridge, RidgeCV, ElasticNet, LassoCV, LassoLarsCV\n",
    "from sklearn.preprocessing import StandardScaler\n",
    "from sklearn.tree import DecisionTreeRegressor\n",
    "import seaborn as sns\n",
    "sns.set(color_codes=True)\n",
    "from scipy import stats\n",
    "from scipy.stats import norm, skew #for some statistics\n",
    "import xgboost as xgb\n",
    "import lightgbm as lgb\n",
    "np.random.seed(25)"
   ]
  },
  {
   "cell_type": "code",
   "execution_count": 2,
   "metadata": {
    "collapsed": true
   },
   "outputs": [],
   "source": [
    "train = pd.read_csv('train.csv')\n",
    "test = pd.read_csv('test.csv')"
   ]
  },
  {
   "cell_type": "code",
   "execution_count": 3,
   "metadata": {
    "collapsed": false
   },
   "outputs": [
    {
     "data": {
      "text/html": [
       "<div>\n",
       "<style scoped>\n",
       "    .dataframe tbody tr th:only-of-type {\n",
       "        vertical-align: middle;\n",
       "    }\n",
       "\n",
       "    .dataframe tbody tr th {\n",
       "        vertical-align: top;\n",
       "    }\n",
       "\n",
       "    .dataframe thead th {\n",
       "        text-align: right;\n",
       "    }\n",
       "</style>\n",
       "<table border=\"1\" class=\"dataframe\">\n",
       "  <thead>\n",
       "    <tr style=\"text-align: right;\">\n",
       "      <th></th>\n",
       "      <th>PRT_ID</th>\n",
       "      <th>AREA</th>\n",
       "      <th>INT_SQFT</th>\n",
       "      <th>DATE_SALE</th>\n",
       "      <th>DIST_MAINROAD</th>\n",
       "      <th>N_BEDROOM</th>\n",
       "      <th>N_BATHROOM</th>\n",
       "      <th>N_ROOM</th>\n",
       "      <th>SALE_COND</th>\n",
       "      <th>PARK_FACIL</th>\n",
       "      <th>...</th>\n",
       "      <th>UTILITY_AVAIL</th>\n",
       "      <th>STREET</th>\n",
       "      <th>MZZONE</th>\n",
       "      <th>QS_ROOMS</th>\n",
       "      <th>QS_BATHROOM</th>\n",
       "      <th>QS_BEDROOM</th>\n",
       "      <th>QS_OVERALL</th>\n",
       "      <th>REG_FEE</th>\n",
       "      <th>COMMIS</th>\n",
       "      <th>SALES_PRICE</th>\n",
       "    </tr>\n",
       "  </thead>\n",
       "  <tbody>\n",
       "    <tr>\n",
       "      <th>0</th>\n",
       "      <td>P03210</td>\n",
       "      <td>Karapakkam</td>\n",
       "      <td>1004</td>\n",
       "      <td>04-05-2011</td>\n",
       "      <td>131</td>\n",
       "      <td>1.0</td>\n",
       "      <td>1.0</td>\n",
       "      <td>3</td>\n",
       "      <td>AbNormal</td>\n",
       "      <td>Yes</td>\n",
       "      <td>...</td>\n",
       "      <td>AllPub</td>\n",
       "      <td>Paved</td>\n",
       "      <td>A</td>\n",
       "      <td>4.0</td>\n",
       "      <td>3.9</td>\n",
       "      <td>4.9</td>\n",
       "      <td>4.330</td>\n",
       "      <td>380000</td>\n",
       "      <td>144400</td>\n",
       "      <td>7600000</td>\n",
       "    </tr>\n",
       "    <tr>\n",
       "      <th>1</th>\n",
       "      <td>P09411</td>\n",
       "      <td>Anna Nagar</td>\n",
       "      <td>1986</td>\n",
       "      <td>19-12-2006</td>\n",
       "      <td>26</td>\n",
       "      <td>2.0</td>\n",
       "      <td>1.0</td>\n",
       "      <td>5</td>\n",
       "      <td>AbNormal</td>\n",
       "      <td>No</td>\n",
       "      <td>...</td>\n",
       "      <td>AllPub</td>\n",
       "      <td>Gravel</td>\n",
       "      <td>RH</td>\n",
       "      <td>4.9</td>\n",
       "      <td>4.2</td>\n",
       "      <td>2.5</td>\n",
       "      <td>3.765</td>\n",
       "      <td>760122</td>\n",
       "      <td>304049</td>\n",
       "      <td>21717770</td>\n",
       "    </tr>\n",
       "    <tr>\n",
       "      <th>2</th>\n",
       "      <td>P01812</td>\n",
       "      <td>Adyar</td>\n",
       "      <td>909</td>\n",
       "      <td>04-02-2012</td>\n",
       "      <td>70</td>\n",
       "      <td>1.0</td>\n",
       "      <td>1.0</td>\n",
       "      <td>3</td>\n",
       "      <td>AbNormal</td>\n",
       "      <td>Yes</td>\n",
       "      <td>...</td>\n",
       "      <td>ELO</td>\n",
       "      <td>Gravel</td>\n",
       "      <td>RL</td>\n",
       "      <td>4.1</td>\n",
       "      <td>3.8</td>\n",
       "      <td>2.2</td>\n",
       "      <td>3.090</td>\n",
       "      <td>421094</td>\n",
       "      <td>92114</td>\n",
       "      <td>13159200</td>\n",
       "    </tr>\n",
       "    <tr>\n",
       "      <th>3</th>\n",
       "      <td>P05346</td>\n",
       "      <td>Velachery</td>\n",
       "      <td>1855</td>\n",
       "      <td>13-03-2010</td>\n",
       "      <td>14</td>\n",
       "      <td>3.0</td>\n",
       "      <td>2.0</td>\n",
       "      <td>5</td>\n",
       "      <td>Family</td>\n",
       "      <td>No</td>\n",
       "      <td>...</td>\n",
       "      <td>NoSewr</td>\n",
       "      <td>Paved</td>\n",
       "      <td>I</td>\n",
       "      <td>4.7</td>\n",
       "      <td>3.9</td>\n",
       "      <td>3.6</td>\n",
       "      <td>4.010</td>\n",
       "      <td>356321</td>\n",
       "      <td>77042</td>\n",
       "      <td>9630290</td>\n",
       "    </tr>\n",
       "    <tr>\n",
       "      <th>4</th>\n",
       "      <td>P06210</td>\n",
       "      <td>Karapakkam</td>\n",
       "      <td>1226</td>\n",
       "      <td>05-10-2009</td>\n",
       "      <td>84</td>\n",
       "      <td>1.0</td>\n",
       "      <td>1.0</td>\n",
       "      <td>3</td>\n",
       "      <td>AbNormal</td>\n",
       "      <td>Yes</td>\n",
       "      <td>...</td>\n",
       "      <td>AllPub</td>\n",
       "      <td>Gravel</td>\n",
       "      <td>C</td>\n",
       "      <td>3.0</td>\n",
       "      <td>2.5</td>\n",
       "      <td>4.1</td>\n",
       "      <td>3.290</td>\n",
       "      <td>237000</td>\n",
       "      <td>74063</td>\n",
       "      <td>7406250</td>\n",
       "    </tr>\n",
       "  </tbody>\n",
       "</table>\n",
       "<p>5 rows × 22 columns</p>\n",
       "</div>"
      ],
      "text/plain": [
       "   PRT_ID        AREA  INT_SQFT   DATE_SALE  DIST_MAINROAD  N_BEDROOM  \\\n",
       "0  P03210  Karapakkam      1004  04-05-2011            131        1.0   \n",
       "1  P09411  Anna Nagar      1986  19-12-2006             26        2.0   \n",
       "2  P01812       Adyar       909  04-02-2012             70        1.0   \n",
       "3  P05346   Velachery      1855  13-03-2010             14        3.0   \n",
       "4  P06210  Karapakkam      1226  05-10-2009             84        1.0   \n",
       "\n",
       "   N_BATHROOM  N_ROOM SALE_COND PARK_FACIL     ...      UTILITY_AVAIL  STREET  \\\n",
       "0         1.0       3  AbNormal        Yes     ...             AllPub   Paved   \n",
       "1         1.0       5  AbNormal         No     ...             AllPub  Gravel   \n",
       "2         1.0       3  AbNormal        Yes     ...                ELO  Gravel   \n",
       "3         2.0       5    Family         No     ...            NoSewr    Paved   \n",
       "4         1.0       3  AbNormal        Yes     ...             AllPub  Gravel   \n",
       "\n",
       "  MZZONE QS_ROOMS QS_BATHROOM  QS_BEDROOM  QS_OVERALL  REG_FEE  COMMIS  \\\n",
       "0      A      4.0         3.9         4.9       4.330   380000  144400   \n",
       "1     RH      4.9         4.2         2.5       3.765   760122  304049   \n",
       "2     RL      4.1         3.8         2.2       3.090   421094   92114   \n",
       "3      I      4.7         3.9         3.6       4.010   356321   77042   \n",
       "4      C      3.0         2.5         4.1       3.290   237000   74063   \n",
       "\n",
       "   SALES_PRICE  \n",
       "0      7600000  \n",
       "1     21717770  \n",
       "2     13159200  \n",
       "3      9630290  \n",
       "4      7406250  \n",
       "\n",
       "[5 rows x 22 columns]"
      ]
     },
     "execution_count": 3,
     "metadata": {},
     "output_type": "execute_result"
    }
   ],
   "source": [
    "train.head()"
   ]
  },
  {
   "cell_type": "code",
   "execution_count": 4,
   "metadata": {
    "collapsed": false
   },
   "outputs": [
    {
     "data": {
      "text/plain": [
       "1.0    3795\n",
       "2.0    2352\n",
       "3.0     707\n",
       "4.0     254\n",
       "Name: N_BEDROOM, dtype: int64"
      ]
     },
     "execution_count": 4,
     "metadata": {},
     "output_type": "execute_result"
    }
   ],
   "source": [
    "train['N_BEDROOM'].value_counts()"
   ]
  },
  {
   "cell_type": "code",
   "execution_count": 5,
   "metadata": {
    "collapsed": false
   },
   "outputs": [
    {
     "data": {
      "text/plain": [
       "PRT_ID            object\n",
       "AREA              object\n",
       "INT_SQFT           int64\n",
       "DATE_SALE         object\n",
       "DIST_MAINROAD      int64\n",
       "N_BEDROOM        float64\n",
       "N_BATHROOM       float64\n",
       "N_ROOM             int64\n",
       "SALE_COND         object\n",
       "PARK_FACIL        object\n",
       "DATE_BUILD        object\n",
       "BUILDTYPE         object\n",
       "UTILITY_AVAIL     object\n",
       "STREET            object\n",
       "MZZONE            object\n",
       "QS_ROOMS         float64\n",
       "QS_BATHROOM      float64\n",
       "QS_BEDROOM       float64\n",
       "QS_OVERALL       float64\n",
       "REG_FEE            int64\n",
       "COMMIS             int64\n",
       "SALES_PRICE        int64\n",
       "dtype: object"
      ]
     },
     "execution_count": 5,
     "metadata": {},
     "output_type": "execute_result"
    }
   ],
   "source": [
    "train.dtypes"
   ]
  },
  {
   "cell_type": "code",
   "execution_count": 6,
   "metadata": {
    "collapsed": false
   },
   "outputs": [
    {
     "data": {
      "text/plain": [
       "PRT_ID            0\n",
       "AREA              0\n",
       "INT_SQFT          0\n",
       "DATE_SALE         0\n",
       "DIST_MAINROAD     0\n",
       "N_BEDROOM         1\n",
       "N_BATHROOM        5\n",
       "N_ROOM            0\n",
       "SALE_COND         0\n",
       "PARK_FACIL        0\n",
       "DATE_BUILD        0\n",
       "BUILDTYPE         0\n",
       "UTILITY_AVAIL     0\n",
       "STREET            0\n",
       "MZZONE            0\n",
       "QS_ROOMS          0\n",
       "QS_BATHROOM       0\n",
       "QS_BEDROOM        0\n",
       "QS_OVERALL       48\n",
       "REG_FEE           0\n",
       "COMMIS            0\n",
       "SALES_PRICE       0\n",
       "dtype: int64"
      ]
     },
     "execution_count": 6,
     "metadata": {},
     "output_type": "execute_result"
    }
   ],
   "source": [
    "train.isnull().sum(axis=0)"
   ]
  },
  {
   "cell_type": "code",
   "execution_count": 7,
   "metadata": {
    "collapsed": true
   },
   "outputs": [],
   "source": [
    "train = train.fillna({\"N_BEDROOM\": train[\"N_BEDROOM\"].mean(), \"INT_SQFT\": train[\"INT_SQFT\"].mean(),\n",
    "                     \"N_BATHROOM\": train[\"N_BATHROOM\"].mean(), \"QS_OVERALL\": train[\"QS_OVERALL\"].mean()})\n",
    "test = test.fillna({\"N_BEDROOM\": test[\"N_BEDROOM\"].mean(), \"INT_SQFT\": train[\"INT_SQFT\"].mean(),\n",
    "                     \"N_BATHROOM\": test[\"N_BATHROOM\"].mean(), \"QS_OVERALL\": test[\"QS_OVERALL\"].mean()})"
   ]
  },
  {
   "cell_type": "markdown",
   "metadata": {},
   "source": [
    "# Feature Engineering"
   ]
  },
  {
   "cell_type": "code",
   "execution_count": 8,
   "metadata": {
    "collapsed": true
   },
   "outputs": [],
   "source": [
    "train['diff_reg_comm'] = train['REG_FEE'] - train['COMMIS']\n",
    "test['diff_reg_comm'] = test['REG_FEE'] - test['COMMIS']"
   ]
  },
  {
   "cell_type": "code",
   "execution_count": 9,
   "metadata": {
    "collapsed": true
   },
   "outputs": [],
   "source": [
    "def get_month(x):\n",
    "    txt = str(x)\n",
    "    y = txt.split('-')\n",
    "    if len(y) != 3:\n",
    "        return 'None'\n",
    "    return int(y[1])\n",
    "\n",
    "def get_year(x):\n",
    "    txt = str(x)\n",
    "    y = txt.split('-')\n",
    "    if len(y) != 3:\n",
    "        return 'None'\n",
    "    return int(y[2])"
   ]
  },
  {
   "cell_type": "code",
   "execution_count": 10,
   "metadata": {
    "collapsed": false
   },
   "outputs": [],
   "source": [
    "train['MONTH'] = train['DATE_SALE'].map(lambda x: get_month(x))\n",
    "train['YEAR'] = train['DATE_SALE'].map(lambda x: get_year(x))\n",
    "\n",
    "test['MONTH'] = test['DATE_SALE'].map(lambda x: get_month(x))\n",
    "test['YEAR'] = test['DATE_SALE'].map(lambda x: get_year(x))"
   ]
  },
  {
   "cell_type": "code",
   "execution_count": 11,
   "metadata": {
    "collapsed": true
   },
   "outputs": [],
   "source": [
    "train['DATE_SALE'] = pd.to_datetime(train['DATE_SALE'].astype(str), format='%d-%m-%Y')\n",
    "train['DATE_BUILD'] = pd.to_datetime(train['DATE_BUILD'].astype(str), format='%d-%m-%Y')\n",
    "\n",
    "test['DATE_SALE'] = pd.to_datetime(test['DATE_SALE'].astype(str), format='%d-%m-%Y')\n",
    "test['DATE_BUILD'] = pd.to_datetime(test['DATE_BUILD'].astype(str), format='%d-%m-%Y')"
   ]
  },
  {
   "cell_type": "code",
   "execution_count": 12,
   "metadata": {
    "collapsed": true
   },
   "outputs": [],
   "source": [
    "train['HOUSE_LIFETIME'] = train['DATE_SALE'] .subtract( train['DATE_BUILD'])\n",
    "test['HOUSE_LIFETIME'] = test['DATE_SALE'] .subtract( test['DATE_BUILD'])\n",
    "\n",
    "train['HOUSE_LIFETIME'] = train['HOUSE_LIFETIME'] .divide( np.timedelta64(1, 'D'))\n",
    "test['HOUSE_LIFETIME'] = test['HOUSE_LIFETIME'] .divide( np.timedelta64(1, 'D'))"
   ]
  },
  {
   "cell_type": "code",
   "execution_count": 13,
   "metadata": {
    "collapsed": false
   },
   "outputs": [
    {
     "data": {
      "image/png": "[encoded data removed]",
      "text/plain": [
       "<matplotlib.figure.Figure at 0x116baf898>"
      ]
     },
     "metadata": {},
     "output_type": "display_data"
    }
   ],
   "source": [
    "sns.distplot(train['SALES_PRICE'] , kde=False);"
   ]
  },
  {
   "cell_type": "code",
   "execution_count": 14,
   "metadata": {
    "collapsed": false
   },
   "outputs": [
    {
     "data": {
      "image/png": "[encoded data removed]",
      "text/plain": [
       "<matplotlib.figure.Figure at 0x116c199e8>"
      ]
     },
     "metadata": {},
     "output_type": "display_data"
    }
   ],
   "source": [
    "var = 'SALES_PRICE'\n",
    "data = pd.concat([train['INT_SQFT'], train[var]], axis=1)\n",
    "data.plot.scatter(x=var, y='INT_SQFT');        # ylim=(0,2500)"
   ]
  },
  {
   "cell_type": "code",
   "execution_count": 15,
   "metadata": {
    "collapsed": false
   },
   "outputs": [
    {
     "data": {
      "image/png": "[encoded data removed]",
      "text/plain": [
       "<matplotlib.figure.Figure at 0x117f53f28>"
      ]
     },
     "metadata": {},
     "output_type": "display_data"
    }
   ],
   "source": [
    "#correlation matrix\n",
    "corrmat = train.corr()\n",
    "f, ax = plt.subplots(figsize=(12, 9))\n",
    "sns.heatmap(corrmat, vmax=.8, square=True);"
   ]
  },
  {
   "cell_type": "code",
   "execution_count": 16,
   "metadata": {
    "collapsed": true
   },
   "outputs": [],
   "source": [
    "feature_names = [x for x in train.columns if x not in ['PRT_ID','SALES_PRICE','DATE_SALE','DATE_BUILD']]\n",
    "target = train['SALES_PRICE']"
   ]
  },
  {
   "cell_type": "code",
   "execution_count": 17,
   "metadata": {
    "collapsed": false
   },
   "outputs": [
    {
     "data": {
      "text/plain": [
       "AREA               object\n",
       "INT_SQFT            int64\n",
       "DIST_MAINROAD       int64\n",
       "N_BEDROOM         float64\n",
       "N_BATHROOM        float64\n",
       "N_ROOM              int64\n",
       "SALE_COND          object\n",
       "PARK_FACIL         object\n",
       "BUILDTYPE          object\n",
       "UTILITY_AVAIL      object\n",
       "STREET             object\n",
       "MZZONE             object\n",
       "QS_ROOMS          float64\n",
       "QS_BATHROOM       float64\n",
       "QS_BEDROOM        float64\n",
       "QS_OVERALL        float64\n",
       "REG_FEE             int64\n",
       "COMMIS              int64\n",
       "diff_reg_comm       int64\n",
       "MONTH               int64\n",
       "YEAR                int64\n",
       "HOUSE_LIFETIME    float64\n",
       "dtype: object"
      ]
     },
     "execution_count": 17,
     "metadata": {},
     "output_type": "execute_result"
    }
   ],
   "source": [
    "train[feature_names].dtypes"
   ]
  },
  {
   "cell_type": "code",
   "execution_count": 226,
   "metadata": {
    "collapsed": false
   },
   "outputs": [
    {
     "name": "stdout",
     "output_type": "stream",
     "text": [
      "Borders generated\n",
      "0:\tlearn 8222594.553passed: 0.0216 sec\ttotal: 621ms\tremaining: 1m 1s\n",
      "1:\tlearn 5939929.272passed: 0.139 sec\ttotal: 761ms\tremaining: 37.3s\n",
      "2:\tlearn 4336872.985passed: 0.075 sec\ttotal: 836ms\tremaining: 27s\n",
      "3:\tlearn 3237527.48passed: 0.0273 sec\ttotal: 864ms\tremaining: 20.7s\n",
      "4:\tlearn 2418914.745passed: 0.301 sec\ttotal: 1.17s\tremaining: 22.2s\n",
      "5:\tlearn 1865481.245passed: 1.38 sec\ttotal: 2.55s\tremaining: 39.9s\n",
      "6:\tlearn 1486649.639passed: 9.08 sec\ttotal: 11.6s\tremaining: 2m 34s\n",
      "7:\tlearn 1218674.048passed: 34.6 sec\ttotal: 46.2s\tremaining: 8m 51s\n",
      "8:\tlearn 1051775.5passed: 0.0921 sec\ttotal: 46.3s\tremaining: 7m 48s\n",
      "9:\tlearn 923942.99passed: 8.16 sec\ttotal: 54.5s\tremaining: 8m 10s\n",
      "10:\tlearn 834883.5736passed: 0.64 sec\ttotal: 55.1s\tremaining: 7m 25s\n",
      "11:\tlearn 752580.8032passed: 1.09 sec\ttotal: 56.2s\tremaining: 6m 52s\n",
      "12:\tlearn 708647.2095passed: 0.263 sec\ttotal: 56.5s\tremaining: 6m 17s\n",
      "13:\tlearn 668392.8228passed: 2.97 sec\ttotal: 59.4s\tremaining: 6m 5s\n",
      "14:\tlearn 643185.0465passed: 1.27 sec\ttotal: 1m\tremaining: 5m 43s\n",
      "15:\tlearn 614322.3611passed: 1.29 sec\ttotal: 1m 1s\tremaining: 5m 25s\n",
      "16:\tlearn 593450.2705passed: 1.17 sec\ttotal: 1m 3s\tremaining: 5m 8s\n",
      "17:\tlearn 569214.2617passed: 29.9 sec\ttotal: 1m 33s\tremaining: 7m 3s\n",
      "18:\tlearn 548880.0763passed: 15.6 sec\ttotal: 1m 48s\tremaining: 7m 43s\n",
      "19:\tlearn 536500.957passed: 0.152 sec\ttotal: 1m 48s\tremaining: 7m 15s\n",
      "20:\tlearn 516057.6486passed: 34.8 sec\ttotal: 2m 23s\tremaining: 9m\n",
      "21:\tlearn 506797.6668passed: 0.0578 sec\ttotal: 2m 23s\tremaining: 8m 29s\n",
      "22:\tlearn 497848.2324passed: 0.156 sec\ttotal: 2m 23s\tremaining: 8m 1s\n",
      "23:\tlearn 487298.4622passed: 3.26 sec\ttotal: 2m 27s\tremaining: 7m 45s\n",
      "24:\tlearn 468591.3726passed: 39.5 sec\ttotal: 3m 6s\tremaining: 9m 19s\n",
      "25:\tlearn 451825.9907passed: 35.2 sec\ttotal: 3m 41s\tremaining: 10m 30s\n",
      "26:\tlearn 443160.8427passed: 0.346 sec\ttotal: 3m 42s\tremaining: 10m\n",
      "27:\tlearn 426952.4112passed: 7.2 sec\ttotal: 3m 49s\tremaining: 9m 49s\n",
      "28:\tlearn 415883.3441passed: 32.5 sec\ttotal: 4m 21s\tremaining: 10m 40s\n",
      "29:\tlearn 406443.5478passed: 6 sec\ttotal: 4m 27s\tremaining: 10m 24s\n",
      "30:\tlearn 391184.897passed: 31 sec\ttotal: 4m 58s\tremaining: 11m 4s\n",
      "31:\tlearn 377043.1013passed: 23.4 sec\ttotal: 5m 22s\tremaining: 11m 24s\n",
      "32:\tlearn 369162.3838passed: 29.4 sec\ttotal: 5m 51s\tremaining: 11m 53s\n",
      "33:\tlearn 361439.2235passed: 34.8 sec\ttotal: 6m 26s\tremaining: 12m 30s\n",
      "34:\tlearn 355833.0493passed: 0.133 sec\ttotal: 6m 26s\tremaining: 11m 57s\n",
      "35:\tlearn 346731.6755passed: 30.1 sec\ttotal: 6m 56s\tremaining: 12m 20s\n",
      "36:\tlearn 337220.6293passed: 37.5 sec\ttotal: 7m 34s\tremaining: 12m 53s\n",
      "37:\tlearn 329334.3445passed: 33.4 sec\ttotal: 8m 7s\tremaining: 13m 15s\n",
      "38:\tlearn 322065.6passed: 20.4 sec\ttotal: 8m 27s\tremaining: 13m 14s\n",
      "39:\tlearn 316552.5082passed: 24.3 sec\ttotal: 8m 52s\tremaining: 13m 18s\n",
      "40:\tlearn 308940.3012passed: 23.5 sec\ttotal: 9m 15s\tremaining: 13m 19s\n",
      "41:\tlearn 301927.0641passed: 28.7 sec\ttotal: 9m 44s\tremaining: 13m 27s\n",
      "42:\tlearn 293047.7535passed: 29.6 sec\ttotal: 10m 14s\tremaining: 13m 34s\n",
      "43:\tlearn 281049.0959passed: 23.4 sec\ttotal: 10m 37s\tremaining: 13m 31s\n",
      "44:\tlearn 270984.3289passed: 29.1 sec\ttotal: 11m 6s\tremaining: 13m 34s\n",
      "45:\tlearn 263202.5181passed: 27.1 sec\ttotal: 11m 33s\tremaining: 13m 34s\n",
      "46:\tlearn 254277.8418passed: 31.4 sec\ttotal: 12m 5s\tremaining: 13m 37s\n",
      "47:\tlearn 248523.8849passed: 28.3 sec\ttotal: 12m 33s\tremaining: 13m 36s\n",
      "48:\tlearn 242528.3048passed: 19.7 sec\ttotal: 12m 53s\tremaining: 13m 24s\n",
      "49:\tlearn 237529.5304passed: 28.2 sec\ttotal: 13m 21s\tremaining: 13m 21s\n",
      "50:\tlearn 232396.585passed: 32.8 sec\ttotal: 13m 53s\tremaining: 13m 21s\n",
      "51:\tlearn 228135.0818passed: 32.9 sec\ttotal: 14m 26s\tremaining: 13m 20s\n",
      "52:\tlearn 223926.2107passed: 24.7 sec\ttotal: 14m 51s\tremaining: 13m 10s\n",
      "53:\tlearn 217582.6059passed: 27.1 sec\ttotal: 15m 18s\tremaining: 13m 2s\n",
      "54:\tlearn 212091.7078passed: 29.9 sec\ttotal: 15m 48s\tremaining: 12m 56s\n",
      "55:\tlearn 207584.6552passed: 23 sec\ttotal: 16m 11s\tremaining: 12m 43s\n",
      "56:\tlearn 204133.081passed: 30.6 sec\ttotal: 16m 42s\tremaining: 12m 35s\n",
      "57:\tlearn 199967.9744passed: 25.7 sec\ttotal: 17m 7s\tremaining: 12m 24s\n",
      "58:\tlearn 197439.8203passed: 25.6 sec\ttotal: 17m 33s\tremaining: 12m 11s\n",
      "59:\tlearn 194232.7023passed: 30.8 sec\ttotal: 18m 4s\tremaining: 12m 2s\n",
      "60:\tlearn 191022.1485passed: 32.9 sec\ttotal: 18m 37s\tremaining: 11m 54s\n",
      "61:\tlearn 185122.6582passed: 26.7 sec\ttotal: 19m 3s\tremaining: 11m 41s\n",
      "62:\tlearn 183073.8869passed: 19.5 sec\ttotal: 19m 23s\tremaining: 11m 23s\n",
      "63:\tlearn 178644.2001passed: 27 sec\ttotal: 19m 50s\tremaining: 11m 9s\n",
      "64:\tlearn 176494.4802passed: 20.1 sec\ttotal: 20m 10s\tremaining: 10m 51s\n",
      "65:\tlearn 173241.0316passed: 26.5 sec\ttotal: 20m 36s\tremaining: 10m 37s\n",
      "66:\tlearn 170064.4495passed: 28.6 sec\ttotal: 21m 5s\tremaining: 10m 23s\n",
      "67:\tlearn 166230.9054passed: 27 sec\ttotal: 21m 32s\tremaining: 10m 8s\n",
      "68:\tlearn 164499.1904passed: 26 sec\ttotal: 21m 58s\tremaining: 9m 52s\n",
      "69:\tlearn 162115.2969passed: 31.5 sec\ttotal: 22m 29s\tremaining: 9m 38s\n",
      "70:\tlearn 159092.1594passed: 30.7 sec\ttotal: 23m\tremaining: 9m 23s\n",
      "71:\tlearn 156569.2583passed: 27.8 sec\ttotal: 23m 28s\tremaining: 9m 7s\n",
      "72:\tlearn 153894.4704passed: 31.6 sec\ttotal: 24m\tremaining: 8m 52s\n",
      "73:\tlearn 151329.7016passed: 25.1 sec\ttotal: 24m 25s\tremaining: 8m 34s\n",
      "74:\tlearn 148174.3499passed: 41.5 sec\ttotal: 25m 6s\tremaining: 8m 22s\n",
      "75:\tlearn 145494.2631passed: 36.7 sec\ttotal: 25m 43s\tremaining: 8m 7s\n",
      "76:\tlearn 141583.1525passed: 25.7 sec\ttotal: 26m 9s\tremaining: 7m 48s\n",
      "77:\tlearn 139801.9449passed: 26.7 sec\ttotal: 26m 35s\tremaining: 7m 30s\n",
      "78:\tlearn 136593.9438passed: 32.1 sec\ttotal: 27m 7s\tremaining: 7m 12s\n",
      "79:\tlearn 135363.4812passed: 21.6 sec\ttotal: 27m 29s\tremaining: 6m 52s\n",
      "80:\tlearn 131926.6828passed: 30.9 sec\ttotal: 28m\tremaining: 6m 34s\n",
      "81:\tlearn 129814.0438passed: 23.1 sec\ttotal: 28m 23s\tremaining: 6m 13s\n",
      "82:\tlearn 127976.6611passed: 32.1 sec\ttotal: 28m 55s\tremaining: 5m 55s\n",
      "83:\tlearn 127315.4795passed: 2.01 sec\ttotal: 28m 57s\tremaining: 5m 30s\n",
      "84:\tlearn 125320.94passed: 39.9 sec\ttotal: 29m 37s\tremaining: 5m 13s\n",
      "85:\tlearn 123522.5772passed: 27.9 sec\ttotal: 30m 5s\tremaining: 4m 53s\n",
      "86:\tlearn 121980.4428passed: 27.8 sec\ttotal: 30m 33s\tremaining: 4m 33s\n",
      "87:\tlearn 121089.8987passed: 31.7 sec\ttotal: 31m 5s\tremaining: 4m 14s\n",
      "88:\tlearn 118503.3837passed: 42 sec\ttotal: 31m 47s\tremaining: 3m 55s\n",
      "89:\tlearn 117003.9597passed: 24.9 sec\ttotal: 32m 11s\tremaining: 3m 34s\n",
      "90:\tlearn 115424.3887passed: 35.9 sec\ttotal: 32m 47s\tremaining: 3m 14s\n",
      "91:\tlearn 114713.726passed: 26.7 sec\ttotal: 33m 14s\tremaining: 2m 53s\n",
      "92:\tlearn 112756.4413passed: 36.5 sec\ttotal: 33m 51s\tremaining: 2m 32s\n",
      "93:\tlearn 111817.9744passed: 33.4 sec\ttotal: 34m 24s\tremaining: 2m 11s\n",
      "94:\tlearn 110425.7131passed: 38 sec\ttotal: 35m 2s\tremaining: 1m 50s\n",
      "95:\tlearn 109179.2577passed: 37 sec\ttotal: 35m 39s\tremaining: 1m 29s\n",
      "96:\tlearn 107215.0888passed: 29.5 sec\ttotal: 36m 8s\tremaining: 1m 7s\n",
      "97:\tlearn 104719.0892passed: 25.6 sec\ttotal: 36m 34s\tremaining: 44.8s\n",
      "98:\tlearn 103708.319passed: 22.9 sec\ttotal: 36m 57s\tremaining: 22.4s\n",
      "99:\tlearn 101446.1329passed: 33.9 sec\ttotal: 37m 31s\tremaining: 0us\n"
     ]
    },
    {
     "data": {
      "text/plain": [
       "array([  7727604.09432117,  14475410.31544828,   7998172.15393278,\n",
       "        13957202.56556859,   6895050.71776128,  14396235.22822814,\n",
       "        14869148.96145219,  21817522.6376007 ,  14813530.6068729 ,\n",
       "         5773579.41069838])"
      ]
     },
     "execution_count": 226,
     "metadata": {},
     "output_type": "execute_result"
    }
   ],
   "source": [
    "# Current best\n",
    "from catboost import CatBoostRegressor\n",
    "\n",
    "model_catboost = CatBoostRegressor(eval_metric='RMSE',learning_rate=0.3,verbose=True, iterations=400,depth=16)\n",
    "\n",
    "model_catboost.fit(train[feature_names], target, cat_features=[0,  5,  6,  7,  8,  9, 10, 11, 19, 20])\n",
    "\n",
    "pred = model_catboost.predict(test[feature_names])\n",
    "\n",
    "pred[:10]"
   ]
  },
  {
   "cell_type": "code",
   "execution_count": 227,
   "metadata": {
    "collapsed": true
   },
   "outputs": [],
   "source": [
    "## make submission\n",
    "sub = pd.DataFrame()\n",
    "sub['PRT_ID'] = test['PRT_ID']\n",
    "sub['SALES_PRICE'] = pred\n",
    "sub.to_csv('house_prices.csv', index=False)"
   ]
  },
  {
   "cell_type": "code",
   "execution_count": null,
   "metadata": {
    "collapsed": true
   },
   "outputs": [],
   "source": []
  }
 ],
 "metadata": {
  "kernelspec": {
   "display_name": "Python 3",
   "language": "python",
   "name": "python3"
  },
  "language_info": {
   "codemirror_mode": {
    "name": "ipython",
    "version": 3
   },
   "file_extension": ".py",
   "mimetype": "text/x-python",
   "name": "python",
   "nbconvert_exporter": "python",
   "pygments_lexer": "ipython3",
   "version": "3.6.0"
  }
 },
 "nbformat": 4,
 "nbformat_minor": 2
}
