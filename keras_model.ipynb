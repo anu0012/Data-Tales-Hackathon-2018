{
  "cells": [
    {
      "metadata": {
        "collapsed": true,
        "_cell_guid": "b8d9cbd3-d4f2-4bbd-9a34-c42f498142af",
        "_uuid": "85d2f30d1fc462b1ba080c68b3c2b7003fdb0019",
        "trusted": false
      },
      "cell_type": "code",
      "source": "import numpy as np\nimport os\nimport pandas as pd\nimport sys\nimport matplotlib.pyplot as plt\n%matplotlib inline\nfrom sklearn.model_selection import train_test_split\nfrom sklearn.naive_bayes import MultinomialNB\nfrom sklearn.svm import LinearSVR\nfrom sklearn.ensemble import RandomForestRegressor, GradientBoostingRegressor,VotingClassifier\nfrom sklearn.linear_model import SGDRegressor, LinearRegression, BayesianRidge, Lasso, HuberRegressor, ElasticNetCV\nfrom sklearn.linear_model import Ridge, RidgeCV, ElasticNet, LassoCV, LassoLarsCV\nfrom sklearn.preprocessing import StandardScaler\nfrom sklearn.tree import DecisionTreeRegressor\nimport seaborn as sns\nsns.set(color_codes=True)\nfrom scipy import stats\nfrom scipy.stats import norm, skew #for some statistics\nimport xgboost as xgb\nimport lightgbm as lgb\nnp.random.seed(25)",
      "execution_count": null,
      "outputs": []
    },
    {
      "metadata": {
        "collapsed": true,
        "_cell_guid": "7b45eddf-8ff3-49ad-9cb4-d3056f2e6bbd",
        "_uuid": "667b9bc65921f1df3785374654204ce9b6b54a13",
        "trusted": false
      },
      "cell_type": "code",
      "source": "train = pd.read_csv('../input/train.csv')\ntest = pd.read_csv('../input/test.csv')",
      "execution_count": null,
      "outputs": []
    },
    {
      "metadata": {
        "collapsed": true,
        "_cell_guid": "d75975ee-26ab-4729-8acc-4ff6f8bc0499",
        "_uuid": "aec1fd07c39e81a8df835147d38822527529b705",
        "trusted": false
      },
      "cell_type": "code",
      "source": "train.head()",
      "execution_count": null,
      "outputs": []
    },
    {
      "metadata": {
        "collapsed": true,
        "_cell_guid": "0070ef81-c717-4078-a46f-bbdb600b7bb5",
        "_uuid": "f8b36b8e36a94f9be36af219d9fda622341bcfd0",
        "trusted": false
      },
      "cell_type": "code",
      "source": "train['N_BEDROOM'].value_counts()",
      "execution_count": null,
      "outputs": []
    },
    {
      "metadata": {
        "collapsed": true,
        "_cell_guid": "0365428f-628c-4af0-be58-4f3cbd6642eb",
        "_uuid": "778365491f508fa85c2c116fd19c3a7223f2d2e9",
        "trusted": false
      },
      "cell_type": "code",
      "source": "train.dtypes",
      "execution_count": null,
      "outputs": []
    },
    {
      "metadata": {
        "collapsed": true,
        "_cell_guid": "976342e6-acd3-4d97-a4fa-baabe3fd2aa4",
        "_uuid": "7796642daaf4a1da5a93fd435379e2fe0d156304",
        "trusted": false
      },
      "cell_type": "code",
      "source": "train.isnull().sum(axis=0)",
      "execution_count": null,
      "outputs": []
    },
    {
      "metadata": {
        "collapsed": true,
        "_cell_guid": "40b53adb-095c-4262-9c66-5998e3bda8d5",
        "_uuid": "e0eeb64079f90bd1ab219a8807c194eb463d9e8a",
        "trusted": false
      },
      "cell_type": "code",
      "source": "train = train.fillna({\"N_BEDROOM\": train[\"N_BEDROOM\"].mean(), \"INT_SQFT\": train[\"INT_SQFT\"].mean(),\n                     \"N_BATHROOM\": train[\"N_BATHROOM\"].mean(), \"QS_OVERALL\": train[\"QS_OVERALL\"].mean()})\ntest = test.fillna({\"N_BEDROOM\": test[\"N_BEDROOM\"].mean(), \"INT_SQFT\": train[\"INT_SQFT\"].mean(),\n                     \"N_BATHROOM\": test[\"N_BATHROOM\"].mean(), \"QS_OVERALL\": test[\"QS_OVERALL\"].mean()})",
      "execution_count": null,
      "outputs": []
    },
    {
      "metadata": {
        "collapsed": true,
        "_cell_guid": "c3483e4c-1c1d-47e0-a51b-d8f168baaea4",
        "_uuid": "fad4e4ccfaf98075cb286ce641a087aa89a188f7",
        "trusted": false
      },
      "cell_type": "code",
      "source": "# train['N_BEDROOM'] = train['N_BEDROOM'].astype(int)\n# test['N_BEDROOM'] = test['N_BEDROOM'].astype(int)\n\n# train['N_BATHROOM'] = train['N_BATHROOM'].astype(int)\n# test['N_BATHROOM'] = test['N_BATHROOM'].astype(int)",
      "execution_count": null,
      "outputs": []
    },
    {
      "metadata": {
        "_cell_guid": "a9bcc4c4-c18d-4353-a29d-3185b66f80dc",
        "_uuid": "9c3d7c6603cb65e630108ae77770cf774ea31153"
      },
      "cell_type": "markdown",
      "source": "# Feature Engineering"
    },
    {
      "metadata": {
        "collapsed": true,
        "_cell_guid": "2d337977-08b2-4e9e-a4c6-1f7d2661638b",
        "_uuid": "d1e33c4047b71fd5168a5b5aaf6fb387c8d9c096",
        "trusted": false
      },
      "cell_type": "code",
      "source": "train['diff_reg_comm'] = train['REG_FEE'] - train['COMMIS']\ntest['diff_reg_comm'] = test['REG_FEE'] - test['COMMIS']",
      "execution_count": null,
      "outputs": []
    },
    {
      "metadata": {
        "collapsed": true,
        "_cell_guid": "4b07d3fa-eee1-479b-b512-1b0270ad14ac",
        "_uuid": "8114619d25671d297d8c47d9b39356672c33eee2",
        "trusted": false
      },
      "cell_type": "code",
      "source": "def get_month(x):\n    txt = str(x)\n    y = txt.split('-')\n    if len(y) != 3:\n        return 'None'\n    return int(y[1])\n\ndef get_year(x):\n    txt = str(x)\n    y = txt.split('-')\n    if len(y) != 3:\n        return 'None'\n    return int(y[2])",
      "execution_count": null,
      "outputs": []
    },
    {
      "metadata": {
        "collapsed": true,
        "_cell_guid": "2525d0be-6d5b-40d2-ba5e-c008fa985e79",
        "_uuid": "fd185bde33fca5df6d1be25951a42e301c00b144",
        "trusted": false
      },
      "cell_type": "code",
      "source": "train['MONTH'] = train['DATE_SALE'].map(lambda x: get_month(x))\ntrain['YEAR'] = train['DATE_SALE'].map(lambda x: get_year(x))\n\ntest['MONTH'] = test['DATE_SALE'].map(lambda x: get_month(x))\ntest['YEAR'] = test['DATE_SALE'].map(lambda x: get_year(x))",
      "execution_count": null,
      "outputs": []
    },
    {
      "metadata": {
        "collapsed": true,
        "_cell_guid": "dfa10384-4576-443f-9dfd-218d6975ee05",
        "_uuid": "5f1f60106c1775ae3d1b490e419a91637d60e61d",
        "trusted": false
      },
      "cell_type": "code",
      "source": "train['DATE_SALE'] = pd.to_datetime(train['DATE_SALE'].astype(str), format='%d-%m-%Y')\ntrain['DATE_BUILD'] = pd.to_datetime(train['DATE_BUILD'].astype(str), format='%d-%m-%Y')\n\ntest['DATE_SALE'] = pd.to_datetime(test['DATE_SALE'].astype(str), format='%d-%m-%Y')\ntest['DATE_BUILD'] = pd.to_datetime(test['DATE_BUILD'].astype(str), format='%d-%m-%Y')",
      "execution_count": null,
      "outputs": []
    },
    {
      "metadata": {
        "collapsed": true,
        "_cell_guid": "51dfbc59-dcc5-4791-9d69-1425623f7e1c",
        "_uuid": "0b58e67f70cd724a0b290c04d095f749e3447c74",
        "trusted": false
      },
      "cell_type": "code",
      "source": "train['HOUSE_LIFETIME'] = train['DATE_SALE'] .subtract( train['DATE_BUILD'])\ntest['HOUSE_LIFETIME'] = test['DATE_SALE'] .subtract( test['DATE_BUILD'])\n\ntrain['HOUSE_LIFETIME'] = train['HOUSE_LIFETIME'] .divide( np.timedelta64(1, 'D'))\ntest['HOUSE_LIFETIME'] = test['HOUSE_LIFETIME'] .divide( np.timedelta64(1, 'D'))",
      "execution_count": null,
      "outputs": []
    },
    {
      "metadata": {
        "collapsed": true,
        "_cell_guid": "a5663286-67b8-44fb-93d4-6ec911b9a8a5",
        "_uuid": "dd1c9d8184f6d0ec7d18922d09bdba0d40ace64d",
        "trusted": false
      },
      "cell_type": "code",
      "source": "sns.distplot(train['SALES_PRICE'] , kde=False);",
      "execution_count": null,
      "outputs": []
    },
    {
      "metadata": {
        "collapsed": true,
        "_cell_guid": "494e91e6-9b9f-4836-90cf-992822ecaa58",
        "_uuid": "dd28805962e64f71f47c4089d0b7b6766b825c98",
        "trusted": false
      },
      "cell_type": "code",
      "source": "var = 'SALES_PRICE'\ndata = pd.concat([train['HOUSE_LIFETIME'], train[var]], axis=1)\ndata.plot.scatter(x=var, y='HOUSE_LIFETIME');        # ylim=(0,2500)",
      "execution_count": null,
      "outputs": []
    },
    {
      "metadata": {
        "collapsed": true,
        "_cell_guid": "1134fc61-c6ef-4c21-840f-454615382204",
        "_uuid": "d79129816edce73f71cd1e97767402704968cb31",
        "trusted": false
      },
      "cell_type": "code",
      "source": "#correlation matrix\ncorrmat = train.corr()\nf, ax = plt.subplots(figsize=(5, 5))\nsns.heatmap(corrmat, vmax=.8, square=True);",
      "execution_count": null,
      "outputs": []
    },
    {
      "metadata": {
        "collapsed": true,
        "_cell_guid": "3e298a7e-eaf7-4fb7-aef2-3d22578bc95f",
        "_uuid": "8ec0950b2b0fbacc2a9f433762bd9ba67284ca57",
        "trusted": false
      },
      "cell_type": "code",
      "source": "feature_names = [x for x in train.columns if x not in ['PRT_ID','SALES_PRICE','DATE_SALE','DATE_BUILD']]\ntarget = train['SALES_PRICE']",
      "execution_count": null,
      "outputs": []
    },
    {
      "metadata": {
        "collapsed": true,
        "_cell_guid": "ed3be452-8860-48e8-a4bf-b5939c05bf34",
        "_uuid": "dd65de7ce6fbb5113f61d82bea112059cd5bde65",
        "trusted": false
      },
      "cell_type": "code",
      "source": "# One-hot encoding\nfrom sklearn.preprocessing import LabelEncoder\n\nlb_make = LabelEncoder()\ntrain[\"AREA\"] = lb_make.fit_transform(train[\"AREA\"])\ntest[\"AREA\"] = lb_make.fit_transform(test[\"AREA\"])\n\ntrain[\"SALE_COND\"] = lb_make.fit_transform(train[\"SALE_COND\"])\ntest[\"SALE_COND\"] = lb_make.fit_transform(test[\"SALE_COND\"])\n\ntrain[\"PARK_FACIL\"] = lb_make.fit_transform(train[\"PARK_FACIL\"])\ntest[\"PARK_FACIL\"] = lb_make.fit_transform(test[\"PARK_FACIL\"])\n\ntrain[\"BUILDTYPE\"] = lb_make.fit_transform(train[\"BUILDTYPE\"])\ntest[\"BUILDTYPE\"] = lb_make.fit_transform(test[\"BUILDTYPE\"])\n\ntrain[\"UTILITY_AVAIL\"] = lb_make.fit_transform(train[\"UTILITY_AVAIL\"])\ntest[\"UTILITY_AVAIL\"] = lb_make.fit_transform(test[\"UTILITY_AVAIL\"])\n\ntrain[\"STREET\"] = lb_make.fit_transform(train[\"STREET\"])\ntest[\"STREET\"] = lb_make.fit_transform(test[\"STREET\"])\n\ntrain[\"MZZONE\"] = lb_make.fit_transform(train[\"MZZONE\"])\ntest[\"MZZONE\"] = lb_make.fit_transform(test[\"MZZONE\"])",
      "execution_count": null,
      "outputs": []
    },
    {
      "metadata": {
        "collapsed": true,
        "_cell_guid": "bbdbc72a-e33b-46ef-b372-f695dd6157a4",
        "_uuid": "40737cf31929672e8af0b444eb7717fdb9d863f7",
        "trusted": false
      },
      "cell_type": "code",
      "source": "train[feature_names].dtypes",
      "execution_count": null,
      "outputs": []
    },
    {
      "metadata": {
        "collapsed": true,
        "_cell_guid": "a496ab2d-753e-4485-b4ed-34c3c1d2c0e1",
        "_uuid": "17b70c618dc9561ab8ef475af7fdeafea26abc51",
        "trusted": false
      },
      "cell_type": "code",
      "source": "np.arange(len(feature_names))",
      "execution_count": null,
      "outputs": []
    },
    {
      "metadata": {
        "collapsed": true,
        "_cell_guid": "dd86b1a6-c194-4a90-8a7a-2eb3f262d69e",
        "_uuid": "b1eaf7bf2df15f5afa6676686831482ccf726fed",
        "trusted": false
      },
      "cell_type": "code",
      "source": "from sklearn.preprocessing import MinMaxScaler\nscaler = MinMaxScaler(feature_range=(0, 21))\ntrain[feature_names] = scaler.fit_transform(train[feature_names])\ntest[feature_names] = scaler.fit_transform(test[feature_names])",
      "execution_count": null,
      "outputs": []
    },
    {
      "metadata": {
        "collapsed": true,
        "_cell_guid": "c6d44dfe-71b1-41c0-b965-d4b91ca20541",
        "_uuid": "49d0d2b68c17442c3fead9b9f3409b22cd2fbac4",
        "trusted": false
      },
      "cell_type": "code",
      "source": "np.random.seed(25)\nfrom keras.models import Sequential\nfrom keras.preprocessing.text import Tokenizer\nfrom keras.preprocessing.sequence import pad_sequences\nfrom keras.utils.np_utils import to_categorical\nfrom keras.layers import Dense, Input, Flatten, merge, LSTM, Lambda, Dropout\nfrom keras.layers import Conv1D, MaxPooling1D, Embedding\nfrom keras.models import Model\nfrom keras.layers.wrappers import TimeDistributed, Bidirectional\nfrom keras.layers.normalization import BatchNormalization\nfrom keras import backend as K\nfrom keras.layers import Convolution1D, GlobalMaxPooling1D\nfrom keras.layers import GlobalMaxPooling1D, Conv1D, MaxPooling1D, Flatten, Bidirectional, SpatialDropout1D\nfrom keras.layers.merge import concatenate\nfrom keras.layers.core import Dense, Activation, Dropout\nfrom keras import optimizers\nfrom keras.wrappers.scikit_learn import KerasRegressor\nimport codecs",
      "execution_count": null,
      "outputs": []
    },
    {
      "metadata": {
        "collapsed": true,
        "_cell_guid": "8865424d-30f4-4b4e-83f4-0a8206a828b3",
        "_uuid": "9d3e4abf6a4e9096393150a1d81b4f206c24b58c",
        "trusted": false
      },
      "cell_type": "code",
      "source": "X_tr, X_val, y_tr, y_val = train_test_split(train[feature_names], target)",
      "execution_count": null,
      "outputs": []
    },
    {
      "metadata": {
        "collapsed": true,
        "_cell_guid": "a91e5af8-c733-4787-8813-2962c2c37ecb",
        "_uuid": "b8aef8504dc7046331a005fc2e884779695f6945",
        "trusted": false
      },
      "cell_type": "code",
      "source": "X_tr.shape",
      "execution_count": null,
      "outputs": []
    },
    {
      "metadata": {
        "collapsed": true,
        "_cell_guid": "35167a78-cc37-4a5c-8942-2191b59d20cc",
        "_uuid": "bd90f1eed15467d19e12be8f54f464629e6be704",
        "trusted": false
      },
      "cell_type": "code",
      "source": "def root_mean_squared_error(y_true, y_pred):\n        return K.sqrt(K.mean(K.square(y_pred - y_true), axis=-1)) ",
      "execution_count": null,
      "outputs": []
    },
    {
      "metadata": {
        "collapsed": true,
        "_cell_guid": "355d5a55-2f6f-4a31-839b-ab0793bf19e7",
        "_uuid": "1469a43f2dcd90c1908a6c60366eb900bdbbb07e",
        "trusted": false
      },
      "cell_type": "code",
      "source": "seed = 7\nnp.random.seed(seed)\n\n# Model\nmodel = Sequential()\nmodel.add(Dense(200, input_dim=22, kernel_initializer='normal', activation='relu'))\nmodel.add(Dense(100, kernel_initializer='normal', activation='relu'))\nmodel.add(Dense(50, kernel_initializer='normal', activation='relu'))\nmodel.add(Dense(25, kernel_initializer='normal', activation='relu'))\nmodel.add(Dense(1, kernel_initializer='normal'))\n# Compile model\nmodel.compile(loss=root_mean_squared_error, optimizer=optimizers.Adadelta())\n#model.compile( optimizer=opt,loss=root_mean_squared_error)",
      "execution_count": null,
      "outputs": []
    },
    {
      "metadata": {
        "collapsed": true,
        "_cell_guid": "0b0d66eb-bc61-4aa6-a260-d173d514e864",
        "_uuid": "653c9ab72016ea26ad7710fcdac4c96c2ce0d2d5",
        "trusted": false
      },
      "cell_type": "code",
      "source": "model.fit(X_tr,y_tr,validation_data=(X_val,y_val),nb_epoch=100,batch_size=10,verbose=2)",
      "execution_count": null,
      "outputs": []
    },
    {
      "metadata": {
        "collapsed": true,
        "_cell_guid": "84da997d-6169-4763-8747-3cb01b3a41cc",
        "_uuid": "e581a6623921a00305d36cc7dfbd76906743b21b",
        "trusted": false
      },
      "cell_type": "code",
      "source": "pred = model.predict(test[feature_names])\npred[:10]",
      "execution_count": null,
      "outputs": []
    },
    {
      "metadata": {
        "collapsed": true,
        "_cell_guid": "68a0b801-2235-4ca6-846e-d010f9783ff6",
        "_uuid": "f0b6f6b035bb841d9b0256eb575ff6f2d33f41b9",
        "trusted": false
      },
      "cell_type": "code",
      "source": "## make submission\nsub = pd.DataFrame()\nsub['PRT_ID'] = test['PRT_ID']\nsub['SALES_PRICE'] = pred\nsub.to_csv('house_prices.csv', index=False)",
      "execution_count": null,
      "outputs": []
    },
    {
      "metadata": {
        "collapsed": true,
        "_cell_guid": "709bc5d9-1826-41e2-a849-9dc9e4090eb4",
        "_uuid": "ace55cc78554048bd765c603ba71216f41a5b745",
        "trusted": false
      },
      "cell_type": "code",
      "source": "",
      "execution_count": null,
      "outputs": []
    }
  ],
  "metadata": {
    "kernelspec": {
      "display_name": "Python 3",
      "language": "python",
      "name": "python3"
    },
    "language_info": {
      "codemirror_mode": {
        "name": "ipython",
        "version": 3
      },
      "name": "python",
      "file_extension": ".py",
      "version": "3.6.4",
      "pygments_lexer": "ipython3",
      "mimetype": "text/x-python",
      "nbconvert_exporter": "python"
    }
  },
  "nbformat": 4,
  "nbformat_minor": 1
}